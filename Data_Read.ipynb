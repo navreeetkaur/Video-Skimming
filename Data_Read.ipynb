{
 "cells": [
  {
   "cell_type": "code",
   "execution_count": 4,
   "metadata": {
    "collapsed": true
   },
   "outputs": [],
   "source": [
    "import os,shutil\n",
    "from PIL import Image\n",
    "import numpy as np\n",
    "import cv2\n",
    "from matplotlib import pyplot as plt\n",
    "from sklearn.decomposition import PCA"
   ]
  },
  {
   "cell_type": "code",
   "execution_count": 5,
   "metadata": {
    "collapsed": true
   },
   "outputs": [],
   "source": [
    "cur_dir = os.getcwd()\n",
    "\n",
    "dataset_dir = os.path.join(cur_dir,\"Dataset\")\n",
    "\n",
    "labels_dir = os.path.join(dataset_dir,\"labels\")\n",
    "frames_dir = os.path.join(dataset_dir,\"frames\")\n",
    "\n",
    "n_lecs = len(os.listdir(labels_dir))\n",
    "\n",
    "listOfLectures = []\n",
    "\n",
    "for lec in sorted(os.listdir(frames_dir)):\n",
    "    frame_list = []\n",
    "    lec_path = os.path.join(frames_dir,lec)\n",
    "    for frame in sorted(os.listdir(lec_path)):\n",
    "        frame_list.append([os.path.join(lec_path,frame),])\n",
    "    listOfLectures.append(frame_list)\n",
    "\n",
    "# print(listOfLectures[:2])"
   ]
  },
  {
   "cell_type": "code",
   "execution_count": 6,
   "metadata": {
    "collapsed": true
   },
   "outputs": [],
   "source": [
    "lec_num = 0\n",
    "for csv in sorted(os.listdir(labels_dir)):\n",
    "    csv_path = os.path.join(labels_dir,csv)\n",
    "    with open(csv_path,'r') as input:\n",
    "        data = input.read()\n",
    "        data = data.split()\n",
    "        for i in range(len(data)):\n",
    "            listOfLectures[lec_num][i].append(int(data[i]))\n",
    "    lec_num+=1"
   ]
  },
  {
   "cell_type": "code",
   "execution_count": 7,
   "metadata": {
    "collapsed": true
   },
   "outputs": [],
   "source": [
    "# listOfLectures : list of lectures where each lecture contains a list of form [frame_number, whether hit or miss ]\n",
    "im = cv2.imread(listOfLectures[0][134][0],0)\n",
    "# cv2.imshow('image',im)\n",
    "# cv2.waitKey(0)\n",
    "# cv2.destroyAllWindows()\n",
    "# print(im.dtype)\n",
    "x = cv2.calcHist([im],[0],None,[256],[0,256])\n",
    "# print(x)\n",
    "# plt.hist(im.ravel(),256,[0,256])\n",
    "# plt.show()"
   ]
  },
  {
   "cell_type": "code",
   "execution_count": 8,
   "metadata": {
    "collapsed": true
   },
   "outputs": [],
   "source": [
    "def ECR(frame, next_frame, width, height, crop=True, dilate_rate = 5):\n",
    "    safe_div = lambda x,y: 0 if y == 0 else x / y\n",
    "    if crop:\n",
    "        startY = int(height * 0.1)\n",
    "        endY = int(height * 0.9)\n",
    "        startX = int(width * 0.1)\n",
    "        endX = int(width * 0.9)\n",
    "        frame = frame[startY:endY, startX:endX]\n",
    "        next_frame = next_frame[startY:endY, startX:endX]\n",
    "\n",
    "    edge = cv2.Canny(frame, 0, 200)\n",
    "    dilated = cv2.dilate(edge, np.ones((dilate_rate, dilate_rate)))\n",
    "    inverted = (255 - dilated)\n",
    "    edge2 = cv2.Canny(next_frame, 0, 200)\n",
    "    dilated2 = cv2.dilate(edge2, np.ones((dilate_rate, dilate_rate)))\n",
    "    inverted2 = (255 - dilated2)\n",
    "    log_and1 = (edge2 & inverted)\n",
    "    log_and2 = (edge & inverted2)\n",
    "    pixels_sum_new = np.sum(edge)\n",
    "    pixels_sum_old = np.sum(edge2)\n",
    "    out_pixels = np.sum(log_and1)\n",
    "    in_pixels = np.sum(log_and2)\n",
    "    return max(safe_div(float(in_pixels),float(pixels_sum_new)), safe_div(float(out_pixels),float(pixels_sum_old)))"
   ]
  },
  {
   "cell_type": "code",
   "execution_count": null,
   "metadata": {},
   "outputs": [
    {
     "name": "stdout",
     "output_type": "stream",
     "text": [
      "lec no.0\n",
      "lec no.1\n",
      "lec no.2\n",
      "lec no.3\n",
      "lec no.4\n",
      "lec no.5\n",
      "lec no.6\n",
      "lec no.7\n",
      "lec no.8\n",
      "lec no.9\n",
      "lec no.10\n",
      "lec no.11\n",
      "lec no.12\n",
      "lec no.13\n",
      "lec no.14\n"
     ]
    }
   ],
   "source": [
    "lectureFeatureList =[]\n",
    "\n",
    "for i in range(len(listOfLectures)):\n",
    "    # i is lec number\n",
    "    pca_comp = 5\n",
    "    pca = PCA(n_components=pca_comp)\n",
    "    sample_image = cv2.imread(listOfLectures[i][0][0],0)\n",
    "    X= sample_image.ravel().reshape((1,-1))\n",
    "    for j in range(1,len(listOfLectures[i])-1):\n",
    "        im = cv2.imread(listOfLectures[i][j][0],0).ravel().reshape((1,-1))\n",
    "        X = np.vstack((X,im))\n",
    "    pca.fit(X)\n",
    "    X = pca.transform(X)\n",
    "    \n",
    "    #### Update it manually to number of features + 1\n",
    "    lectureArray = np.ones((X.shape[0],3 + 1),dtype=np.float)\n",
    "    \n",
    "    f_info_next = listOfLectures[i][0]\n",
    "    im_n = cv2.imread(f_info_next[0],0)\n",
    "    for j in range(len(listOfLectures[i])-1):\n",
    "\n",
    "        frame_params = []\n",
    "        f_info = f_info_next\n",
    "        \n",
    "        f_info_next = listOfLectures[i][j+1]\n",
    "        # As of now , list of form [Path,missOrHit]\n",
    "        im = im_n # Grayscale image of frame\n",
    "        im_n = cv2.imread(f_info_next[0],0) # Grayscale image of frame\n",
    "        \n",
    "        sad = np.sum(np.abs(im_n-im))\n",
    "        lectureArray[j][0] = sad\n",
    "        \n",
    "        ecr = ECR(im,im_n,im.shape[1],im.shape[0])\n",
    "        lectureArray[j][1] = ecr\n",
    "        \n",
    "        im_h = cv2.calcHist([im],[0],None,[256],[0,256])\n",
    "        im_nh = cv2.calcHist([im_n],[0],None,[256],[0,256])\n",
    "        hd = np.sum(np.abs(im_h-im_nh))\n",
    "        lectureArray[j][2] = hd\n",
    "        \n",
    "        lectureArray[j][3] = int(f_info[1])\n",
    "        \n",
    "#         print(f_info)\n",
    "    x_normed = (x - x.min(0)) / x.ptp(0)\n",
    "    lectureArray = np.hstack((X,lectureArray))\n",
    "    lectureArray = (lectureArray - lectureArray.min(0)) / lectureArray.ptp(0)\n",
    "    lectureFeatureList.append(lectureArray)\n",
    "#     print(lectureArray[:5])\n",
    "    print(\"lec no.\" +str(i))\n",
    "        "
   ]
  },
  {
   "cell_type": "raw",
   "metadata": {
    "collapsed": true
   },
   "source": [
    "# You can use lectureFeatureList now\n",
    "# It is a list of 35 lecs which are numpy arrays\n",
    "# Each array has dimension (no. of frames X (pca_comp + 3 for features engineered + 1 for hitOrMiss))\n",
    "# The snippet before this takes a lot of time to compute "
   ]
  }
 ],
 "metadata": {
  "kernelspec": {
   "display_name": "Python 3",
   "language": "python",
   "name": "python3"
  },
  "language_info": {
   "codemirror_mode": {
    "name": "ipython",
    "version": 3
   },
   "file_extension": ".py",
   "mimetype": "text/x-python",
   "name": "python",
   "nbconvert_exporter": "python",
   "pygments_lexer": "ipython3",
   "version": "3.6.7"
  }
 },
 "nbformat": 4,
 "nbformat_minor": 2
}
