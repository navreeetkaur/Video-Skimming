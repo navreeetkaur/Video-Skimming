{
 "cells": [
  {
   "cell_type": "code",
   "execution_count": 30,
   "metadata": {},
   "outputs": [],
   "source": [
    "import numpy as np\n",
    "import torch, torch.nn as nn\n",
    "from torch.autograd import Variable\n",
    "import torch.nn.functional as F\n",
    "import torch.optim as optim\n",
    "import time"
   ]
  },
  {
   "cell_type": "code",
   "execution_count": 11,
   "metadata": {},
   "outputs": [],
   "source": [
    "# 5 examples with 2 dimensional representation\n",
    "random_input = Variable(torch.FloatTensor(5, 2, 1).normal_(), requires_grad=False)"
   ]
  },
  {
   "cell_type": "code",
   "execution_count": 12,
   "metadata": {},
   "outputs": [
    {
     "data": {
      "text/plain": [
       "tensor([[[-1.1172],\n",
       "         [-3.2629]],\n",
       "\n",
       "        [[ 0.9789],\n",
       "         [ 2.3778]],\n",
       "\n",
       "        [[-0.9737],\n",
       "         [-0.4792]],\n",
       "\n",
       "        [[ 0.1305],\n",
       "         [ 1.0045]],\n",
       "\n",
       "        [[-1.1650],\n",
       "         [ 0.7274]]])"
      ]
     },
     "execution_count": 12,
     "metadata": {},
     "output_type": "execute_result"
    }
   ],
   "source": [
    "random_input"
   ]
  },
  {
   "cell_type": "code",
   "execution_count": 3,
   "metadata": {},
   "outputs": [],
   "source": [
    "bi_grus = torch.nn.GRU(input_size=2, hidden_size=1, num_layers=1, batch_first=False, bidirectional=True)"
   ]
  },
  {
   "cell_type": "code",
   "execution_count": 4,
   "metadata": {},
   "outputs": [],
   "source": [
    "reverse_gru = torch.nn.GRU(input_size=1, hidden_size=1, num_layers=1, batch_first=False, bidirectional=False)"
   ]
  },
  {
   "cell_type": "code",
   "execution_count": 5,
   "metadata": {},
   "outputs": [],
   "source": [
    "reverse_gru.weight_ih_l0 = bi_grus.weight_ih_l0_reverse\n",
    "reverse_gru.weight_hh_l0 = bi_grus.weight_hh_l0_reverse\n",
    "reverse_gru.bias_ih_l0 = bi_grus.bias_ih_l0_reverse\n",
    "reverse_gru.bias_hh_l0 = bi_grus.bias_hh_l0_reverse"
   ]
  },
  {
   "cell_type": "code",
   "execution_count": 6,
   "metadata": {},
   "outputs": [],
   "source": [
    "bi_output, bi_hidden = bi_grus(random_input)"
   ]
  },
  {
   "cell_type": "code",
   "execution_count": 7,
   "metadata": {},
   "outputs": [],
   "source": [
    "reverse_output, reverse_hidden = reverse_gru(random_input[np.arange(4, -1, -1), :, :])"
   ]
  },
  {
   "cell_type": "code",
   "execution_count": 31,
   "metadata": {},
   "outputs": [],
   "source": [
    "num_epochs = 5\n",
    "learning_rate = 0.001\n",
    "embedding_dim = 20\n",
    "hidden_dim = 10\n",
    "model_path = \"dummy-model\""
   ]
  },
  {
   "cell_type": "code",
   "execution_count": 32,
   "metadata": {},
   "outputs": [],
   "source": [
    "class Model(nn.Module):\n",
    "    def __init__(self, embedding_dim, hidden_dim):\n",
    "        super(Model, self).__init__()\n",
    "        self.bi_grus = torch.nn.GRU(input_size=embedding_dim, hidden_size=hidden_dim, num_layers=1, batch_first=False, bidirectional=True)\n",
    "#         (Side note) The output shape of GRU in PyTorch when batch_firstis false:\n",
    "#         output (seq_len, batch, hidden_size * num_directions)\n",
    "#         h_n (num_layers * num_directions, batch, hidden_size)\n",
    "        self.linear = nn.Linear(in_features=hidden_dim*2, out_features=2, bias=True)\n",
    "        \n",
    "    def forward(self, inputs):\n",
    "        out_gru = self.bi_grus(inputs).view(1,-1) # \n",
    "        # forward_out = out_gru[:, :, :hidden_dim]\n",
    "        # backward_out = out_gru[:, :, hidden_dim:]\n",
    "        print(\"gru:\", out_gru.shape)\n",
    "        out_linear = self.linear(out_gru) #\n",
    "        print(\"output: \", out_linear.shape)\n",
    "        return out_linear"
   ]
  },
  {
   "cell_type": "code",
   "execution_count": 33,
   "metadata": {},
   "outputs": [],
   "source": [
    "model = Model(embedding_dim=embedding_dim, hidden_dim=hidden_dim)"
   ]
  },
  {
   "cell_type": "code",
   "execution_count": 34,
   "metadata": {},
   "outputs": [],
   "source": [
    "optimizer = optim.Adam(model.parameters(), lr=learning_rate)"
   ]
  },
  {
   "cell_type": "code",
   "execution_count": 35,
   "metadata": {},
   "outputs": [
    {
     "name": "stdout",
     "output_type": "stream",
     "text": [
      "bi_grus.weight_ih_l0\n",
      "bi_grus.weight_hh_l0\n",
      "bi_grus.bias_ih_l0\n",
      "bi_grus.bias_hh_l0\n",
      "bi_grus.weight_ih_l0_reverse\n",
      "bi_grus.weight_hh_l0_reverse\n",
      "bi_grus.bias_ih_l0_reverse\n",
      "bi_grus.bias_hh_l0_reverse\n",
      "linear.weight\n",
      "linear.bias\n"
     ]
    }
   ],
   "source": [
    "for name, param in model.named_parameters():\n",
    "    if param.requires_grad:\n",
    "        print(name)"
   ]
  },
  {
   "cell_type": "code",
   "execution_count": null,
   "metadata": {},
   "outputs": [],
   "source": []
  },
  {
   "cell_type": "code",
   "execution_count": null,
   "metadata": {},
   "outputs": [],
   "source": [
    "simplemodel.train()\n",
    "total_loss = 0.\n",
    "start_time = time.time()\n",
    "\n",
    "for epoch in range(1,num_epochs+1):\n",
    "    print(\"- - - - - - - - - - - - - - - - - - - -\")\n",
    "    for j,(inputs, targets) in enumerate(data):\n",
    "        inputs = torch.LongTensor(inputs)\n",
    "        targets = torch.LongTensor(targets)\n",
    "        output = model(inputs=inputs)\n",
    "        logits = nn.Softmax()(output)\n",
    "        loss = nn.BCELoss(weight=None, size_average=None, reduction='mean')(input=logits, target=y)\n",
    "        optimizer.zero_grad()\n",
    "        loss.backward()\n",
    "        total_loss += loss.item()\n",
    "        optimizer.step()\n",
    "        curr_loss+=loss.item()\n",
    "\n",
    "        elapsed = time.time() - start_time\n",
    "        print('- | epoch {:3d} | lr {:02.3f} | '\n",
    "                'loss {:5.2f}  - '.format(\n",
    "            epoch, curr_loss))\n",
    "        start_time = time.time()\n",
    "    print(\"\\nLoss :\", curr_loss/j, \"  ; Time: \",elapsed,\"\\n\")"
   ]
  },
  {
   "cell_type": "code",
   "execution_count": null,
   "metadata": {},
   "outputs": [],
   "source": [
    "torch.save(model, model_path)"
   ]
  }
 ],
 "metadata": {
  "kernelspec": {
   "display_name": "Python 3",
   "language": "python",
   "name": "python3"
  },
  "language_info": {
   "codemirror_mode": {
    "name": "ipython",
    "version": 3
   },
   "file_extension": ".py",
   "mimetype": "text/x-python",
   "name": "python",
   "nbconvert_exporter": "python",
   "pygments_lexer": "ipython3",
   "version": "3.7.0b3"
  }
 },
 "nbformat": 4,
 "nbformat_minor": 2
}
